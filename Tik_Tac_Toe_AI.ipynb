{
  "nbformat": 4,
  "nbformat_minor": 0,
  "metadata": {
    "colab": {
      "provenance": []
    },
    "kernelspec": {
      "name": "python3",
      "display_name": "Python 3"
    },
    "language_info": {
      "name": "python"
    }
  },
  "cells": [
    {
      "cell_type": "markdown",
      "source": [
        "This Notebook implements a Tik TaC Toe game and an AI to play against."
      ],
      "metadata": {
        "id": "nef6VWeHgqqp"
      }
    },
    {
      "cell_type": "markdown",
      "source": [
        "###Current Board Function\n",
        "This function displays the current state of the game."
      ],
      "metadata": {
        "id": "JZNfn0RVhtoN"
      }
    },
    {
      "cell_type": "code",
      "source": [
        "def currentboard(board):\n",
        "  print(\"Board currently looks like:\")\n",
        "  for i in range(9): #the board will have 9 points where we can enter either O or X\n",
        "    if(board[i]==1): #1 represents X, -1 represents 0 and * represents empty space\n",
        "      print('X',end='\\t')\n",
        "    elif(board[i]==-1):\n",
        "      print('O',end='\\t')\n",
        "    elif(board[i]==0):\n",
        "      print('*',end='\\t')\n",
        "    if((i+1)%3==0):\n",
        "      print('\\n')\n",
        "  print('\\n')  "
      ],
      "metadata": {
        "id": "LsBQ6kD5h4eE"
      },
      "execution_count": 27,
      "outputs": []
    },
    {
      "cell_type": "markdown",
      "source": [
        "###Player1 Function\n",
        "This function is used for taking input from player1 who is 'X'"
      ],
      "metadata": {
        "id": "--j1zvEHlCz_"
      }
    },
    {
      "cell_type": "code",
      "source": [
        "def player1(board):\n",
        "  currentboard(board)\n",
        "  print(\"Input for 'X'\")\n",
        "  print('Positions currently Available for Input:',end=\" \")\n",
        "  for i in range(9):\n",
        "    if(board[i]==0):\n",
        "      if(i!=8):\n",
        "        print(i+1,end=\",\")\n",
        "      else:\n",
        "        print(i+1)\n",
        "  flag=1\n",
        "  while(flag):\n",
        "    print('Enter position:')\n",
        "    pos=int(input())\n",
        "    if(pos>9 or pos<0):\n",
        "      print('Incorrect input. Enter Again')\n",
        "    elif(board[pos-1]!=0):\n",
        "      print('Incorrect input. Enter Again')\n",
        "    else:\n",
        "      board[pos-1]=1\n",
        "      flag=0"
      ],
      "metadata": {
        "id": "V2knwrdWlSPU"
      },
      "execution_count": 28,
      "outputs": []
    },
    {
      "cell_type": "markdown",
      "source": [
        "###Player2 Function\n",
        "This function is used for taking input from player1 who is 'O'"
      ],
      "metadata": {
        "id": "Jzm-GiC-n42Y"
      }
    },
    {
      "cell_type": "code",
      "source": [
        "def player2(board):\n",
        "  currentboard(board)\n",
        "  print(\"Input for 'O'\")\n",
        "  print('Positions currently Available for Input:',end=\" \")\n",
        "  for i in range(9):\n",
        "    if(board[i]==0):\n",
        "      if(i!=8):\n",
        "        print(i+1,end=\",\")\n",
        "      else:\n",
        "        print(i+1)\n",
        "  flag=1\n",
        "  while(flag):\n",
        "    print('Enter position:')\n",
        "    pos=int(input())\n",
        "    if(pos>9 or pos<0):\n",
        "      print('Incorrect input. Enter Again')\n",
        "    elif(board[pos-1]!=0):\n",
        "      print('Incorrect input. Enter Again')\n",
        "    else:\n",
        "      board[pos-1]=-1\n",
        "      flag=0"
      ],
      "metadata": {
        "id": "SPKiX5Jjn7Y1"
      },
      "execution_count": 29,
      "outputs": []
    },
    {
      "cell_type": "markdown",
      "source": [
        "###Analyze Board Function\n",
        "This Function will keep checking if any of the players have reached the Win State or not. If a player wins, it will return their respective value. Otherwise, zero."
      ],
      "metadata": {
        "id": "x8mWwdDyv-Zc"
      }
    },
    {
      "cell_type": "code",
      "source": [
        "def analyzeboard(board):\n",
        "  win_state=[[0,1,2],[3,4,5],[6,7,8],[0,3,6],[1,4,7],[2,5,8],[0,4,8],[2,4,6]] #All win states which will be applicable if they same X or Zero at all indices mentioned in each trio list\n",
        "  for i in range(8):\n",
        "    if(board[win_state[i][0]]!=0 and board[win_state[i][0]]==board[win_state[i][1]] and board[win_state[i][0]]==board[win_state[i][2]]):\n",
        "      return board[win_state[i][0]]\n",
        "  return 0"
      ],
      "metadata": {
        "id": "vRTakYHbwMtu"
      },
      "execution_count": 30,
      "outputs": []
    },
    {
      "cell_type": "markdown",
      "source": [
        "###Main Function\n",
        "Initial and Final interface for the user."
      ],
      "metadata": {
        "id": "2qrFHBFwyDv9"
      }
    },
    {
      "cell_type": "code",
      "source": [
        "def main():\n",
        "  board=[0 for x in range(9)]\n",
        "  print('x'*10,\" \",\"!!Tic-Tac-Toe!!\",' ','x'*10)\n",
        "  flag=1\n",
        "  while(flag):\n",
        "    choice=int(input('Enter 1 for Single Player\\nEnter 2 for Multiplayer\\nYour Input:'))\n",
        "    if(choice>2 or choice<1):\n",
        "      print('!!Invalid Input!!')\n",
        "    else:\n",
        "      flag=0\n",
        "  if(choice==1):\n",
        "    player_avatar=int(input('Enter 1 to play as \\'O\\'\\nEnter 2 to play as \\'X\\'\\nYour Choice:'))\n",
        "    if(player_avatar>2 or player_avatar<1):\n",
        "      print('Wrong Input. Game Terminated.')\n",
        "      exit(0)\n",
        "    player=int(input('Enter 1 for first turn. Otherwise, enter 2\\nYour Choice:'))\n",
        "    if(player>2 or player<1):\n",
        "      print('Wrong Input. Game Terminated.')\n",
        "      exit(0)\n",
        "    for i in range(9):\n",
        "      if(analyzeboard(board)!=0):\n",
        "        break\n",
        "      if((player+i)%2==0):\n",
        "        CompTurn(board,player_avatar)\n",
        "      else:\n",
        "        if(player_avatar==1):\n",
        "          player2(board)\n",
        "        else:\n",
        "          player1(board)\n",
        "  else:\n",
        "    print(\"Player 1 is 'X'\\nPlayer 2 is 'O\")\n",
        "    for i in range(9):\n",
        "      if(analyzeboard(board)!=0):\n",
        "        break\n",
        "      if(i%2==0):\n",
        "        player1(board)\n",
        "      else:\n",
        "        player2(board)\n",
        "  currentboard(board)\n",
        "  winner=analyzeboard(board)\n",
        "  if(winner==-1):\n",
        "    print(\"'O' won!!\")\n",
        "  elif(winner==1):\n",
        "    print(\"'X' won!!\")\n",
        "  elif(winner==0):\n",
        "    print('Draw!!')"
      ],
      "metadata": {
        "id": "BdU6Se1nyRmU"
      },
      "execution_count": 31,
      "outputs": []
    },
    {
      "cell_type": "markdown",
      "source": [
        "###CompTurn Function\n",
        "This Function represents the computer and this is where the MinMax Algorithm is going to come into play."
      ],
      "metadata": {
        "id": "QhWSK0cz52oA"
      }
    },
    {
      "cell_type": "code",
      "source": [
        "def CompTurn(board,player_avatar):\n",
        "  value=-2 #This is the value the the minmax algo will give. Greater value, better result.\n",
        "  pos=-1 #Position at which computer will enter the value.\n",
        "  computer_avatar=0\n",
        "  if(player_avatar==1):\n",
        "    computer_avatar=1\n",
        "  else:\n",
        "    computer_avatar=-1\n",
        "  for i in range(9):\n",
        "    if(board[i]==0):\n",
        "      board[i]=computer_avatar #AI needs to play the value and check if the score at that place will be good or not.\n",
        "      score=-1*minmax(board,-1*computer_avatar)\n",
        "      board[i]=0 #Undoing the changes\n",
        "      if(score>value):\n",
        "        value=score\n",
        "        pos=i\n",
        "  board[pos]=computer_avatar #The best place to put the input on."
      ],
      "metadata": {
        "id": "n0E4eCV06FQY"
      },
      "execution_count": 32,
      "outputs": []
    },
    {
      "cell_type": "markdown",
      "source": [
        "###minmax Function\n",
        "This is the AI Algo which will be used to get the best moves for the computer."
      ],
      "metadata": {
        "id": "lIvmhQ5c73Pd"
      }
    },
    {
      "cell_type": "code",
      "source": [
        "def minmax(board,player_avatar):\n",
        "  winner=analyzeboard(board)\n",
        "  if(winner!=0):\n",
        "    return (winner*player_avatar)\n",
        "  value=-2 #from this point ownwards, its recurrsion to make the tree of values. The AI is now acting as the player.\n",
        "  pos=-1  #It will put moves on its own and the best one will be returned.\n",
        "  for i in range(9):\n",
        "    if(board[i]==0):\n",
        "      board[i]=player_avatar\n",
        "      score=-1*minmax(board,player_avatar*-1)\n",
        "      board[i]=0 \n",
        "      if(score>value):\n",
        "        value=score\n",
        "        pos=i\n",
        "  if(pos==-1):\n",
        "    return 0\n",
        "  return value\n",
        "  "
      ],
      "metadata": {
        "id": "AKL0x5IF8J7O"
      },
      "execution_count": 33,
      "outputs": []
    },
    {
      "cell_type": "markdown",
      "source": [
        "###Calling the main function for playing!! Enjoy!"
      ],
      "metadata": {
        "id": "7lwcZkewCBok"
      }
    },
    {
      "cell_type": "code",
      "source": [
        "\n",
        "main()"
      ],
      "metadata": {
        "id": "oKDu3QZ7CGxm"
      },
      "execution_count": null,
      "outputs": []
    }
  ]
}